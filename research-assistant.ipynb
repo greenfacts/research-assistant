{
 "cells": [
  {
   "cell_type": "code",
   "execution_count": 1,
   "metadata": {},
   "outputs": [],
   "source": [
    "from tavily import TavilyClient\n"
   ]
  },
  {
   "cell_type": "code",
   "execution_count": 2,
   "metadata": {},
   "outputs": [
    {
     "data": {
      "text/plain": [
       "{'query': 'What is the tavily api used for',\n",
       " 'follow_up_questions': None,\n",
       " 'answer': None,\n",
       " 'images': [],\n",
       " 'results': [{'title': 'Introduction | Tavily AI',\n",
       "   'url': 'https://docs.tavily.com/docs/welcome',\n",
       "   'content': \"However, we've learned that none of today's search engines provide a suitable tool that provides factual, explicit and objective answers without the need to continuously click and explore multiple sites for a given research task.\\n All in a single API call!\\nTo learn how to build your AI application with Tavily Search API, check out the documentation page.\\n Scraping doesn't scale and requires expertise to refine, current search engine APIs don't provide explicit information to queries but simply potential related articles (which are not always related), and are not very customziable for AI agent needs. GPT Researcher is an autonomous agent that takes care of the tedious task of research for you, by scraping, filtering and aggregating over 20+ web sources per a single research task.\\n This is why we're excited to introduce the first search engine for AI agents - Tavily Search API.\\n\",\n",
       "   'score': 0.72907686,\n",
       "   'raw_content': \"Introduction\\nHey there! 👋\\nWe're a team of AI researchers and developers who are passionate about building the next generation of AI assistants.\\nOur mission is to empower individuals and organizations with accurate, unbiased, and factual information.\\nGPT Researcher\\u200b\\nIn this digital age, quickly accessing relevant and trustworthy information is more crucial than ever. However, we've learned that none of today's search engines provide a suitable tool that provides factual, explicit and objective answers without the need to continuously click and explore multiple sites for a given research task.\\nThis is why we've built the trending open source GPT Researcher. GPT Researcher is an autonomous agent that takes care of the tedious task of research for you, by scraping, filtering and aggregating over 20+ web sources per a single research task.\\nTo learn more about GPT Researcher, check out the documentation page.\\nTavily Search API\\u200b\\nBuilding an AI agent that leverages realtime online information is not a simple task. Scraping doesn't scale and requires expertise to refine, current search engine APIs don't provide explicit information to queries but simply potential related articles (which are not always related), and are not very customziable for AI agent needs. This is why we're excited to introduce the first search engine for AI agents - Tavily Search API.\\nTavily Search API is a search engine optimized for LLMs, aimed at efficient, quick and persistent search results. Unlike other search APIs such as Serp or Google, Tavily focuses on optimizing search for AI developers and autonomous AI agents. We take care of all the burden in searching, scraping, filtering and extracting the most relevant information from online sources. All in a single API call!\\nTo learn how to build your AI application with Tavily Search API, check out the documentation page.\\nTo try our API in action, you can now use GPT Researcher on our hosted version here or on our API Playground.\\nIf you're an AI developer looking to integrate your application with our API or seek increased API limits, please reach out!\"},\n",
       "  {'title': 'Tavily',\n",
       "   'url': 'https://tavily.com/',\n",
       "   'content': \"Find a plan to power your AI Agents\\nFor new creators building\\nIdeal for growing businesses\\nBuilt for scale and exclusive data\\nEverything you need to know\\nHere are the questions most people always ask about.\\n Our goal is to make the research process a breeze, so you can focus on what matters\\nWith Tavily Research Assistant, all you need is to share your objectives and questions, and voila! Unleash the Power of AI with Automated Research\\nTavily does your research for you, so you can spend less time stressing over it and more time focusing on the things that really matter.\\n Introducing our Search API - Your AI's Gateway to the Web\\nElevate your AI capabilities with a search engine built specifically for AI agents (LLMs), delivering real-time, accurate, and factual results at speed.\\n Dive deeper and share insights\\nOnce you have your research results, you can dive deeper to more research tasks, and even share your reports.\\n\",\n",
       "   'score': 0.7251239,\n",
       "   'raw_content': 'Say Goodbye to Hours of Research\\nSay Hello to Tavily, your AI mate for rapid insights and comprehensive research. Tavily takes care of everything from accurate source gathering to organization of research results - all in one platform designed to make your research process a breeze.\\nIntroducing our Search API - Your AI\\'s Gateway to the Web\\nElevate your AI capabilities with a search engine built specifically for AI agents (LLMs), delivering real-time, accurate, and factual results at speed.\\nIn-depth Research\\nSimplify data gathering with trusted, aggregated and curated results from a single API call.\\nIntelligent Query Suggestions and Answers\\nEquip your AI with the ability to iteratively deepen its knowledge through automated, nuanced answers and follow-up queries.\\nTailored search retrieval for AI agents\\nWe know that each AI agent requires different data. That\\'s why we\\'ve built a flexible API that allows you to customize your search to your needs. We use a combination of proprietary data sources and models to deliver the most relevant results for your AI agent.\\nIt is critical for finance AI applications to retrieve realtime and correct data for making the right decisions. Tavily aggregates information from curated sources to deliver the most relevant results for your AI agent. Anything from stock prices to company financials, we have you covered.\\nOur goal is to make the research process a breeze, so you can focus on what matters\\nWith Tavily Research Assistant, all you need is to share your objectives and questions, and voila! Tavily provides comprehensive, accurate and credible research results in a matter of seconds.\\n1. Share what you want to research\\nFor example: \"Plan a 5 day romantic trip to Paris\" or \"how to optimize my Linkedin profile\"\\n2. Tavily will start the research process\\nTavily will start gathering information from multiple online trusted sources. Tavily aims to provide you with the most accurate and credible information.\\n3. Get a comprehensive research report\\nTavily will then organize the information and provide you with a comprehensive research report within minutes.\\n4. Dive deeper and share insights\\nOnce you have your research results, you can dive deeper to more research tasks, and even share your reports.\\nFind a plan to power your AI Agents\\nFor new creators building\\nIdeal for growing businesses\\nBuilt for scale and exclusive data\\nEverything you need to know\\nHere are the questions most people always ask about.\\nTavily is proficient in conducting any kind of research regardless of the subject matter or niche. Tavily can help with anything from \"find the top 5 restaurants in NYC\" to academic research like \"What is the economic impact of Covid?\".\\nTavily uses advanced algorithms and models to gather information from relevant sources. We also have a team of experts who review the information to refine and ensure research correctness.\\nUnlike Bing, Google and SerpAPI, Tavily Search API reviews multiple sources to find the most relevant content from each source to optimize for LLM context. Tavily Search API is also more affordable and flexible.\\nIt depends on the research. In average, you will receive a comprehensive research report within minutes. Our API can return research results in seconds!\\nYes, Tavily provides comprehensive cited sources for the research results. You can also tell Tavily which sources to focus on.\\nBoth! Tavily is ideal for anyone who needs to conduct research to make unbiased and informed decisions. We works closely with individuals, startups and enterprises to provide the best research experience.\\nUnleash the Power of AI with Automated Research\\nTavily does your research for you, so you can spend less time stressing over it and more time focusing on the things that really matter.\\n© 2023 Tavily Inc. All rights reserved.'}],\n",
       " 'response_time': 1.9}"
      ]
     },
     "execution_count": 2,
     "metadata": {},
     "output_type": "execute_result"
    }
   ],
   "source": [
    "tavily_client = TavilyClient()\n",
    "results = tavily_client.search(\"What is the tavily api used for\", max_results=2, include_raw_content=True)\n",
    "results"
   ]
  },
  {
   "cell_type": "code",
   "execution_count": 19,
   "metadata": {},
   "outputs": [
    {
     "data": {
      "text/plain": [
       "2"
      ]
     },
     "execution_count": 19,
     "metadata": {},
     "output_type": "execute_result"
    }
   ],
   "source": [
    "from llama_index.core import Document, VectorStoreIndex\n",
    "\n",
    "documents = [Document(text=result[\"content\"]) for result in results[\"results\"]]\n",
    "len(documents)"
   ]
  },
  {
   "cell_type": "code",
   "execution_count": 5,
   "metadata": {},
   "outputs": [
    {
     "name": "stdout",
     "output_type": "stream",
     "text": [
      "[0.09793216735124588, 0.16228505969047546, 0.0478314533829689, 0.10278581082820892, 0.05764854699373245, 0.16779780387878418, 0.6376829743385315, -0.16256900131702423, 0.14350616931915283, 0.1604672223329544, 0.22244329750537872, -0.15572872757911682, 0.17906427383422852, -0.017856121063232422, -0.009454432874917984, 0.6929346323013306, 0.01030971109867096, -0.7937605381011963, -0.35741126537323, -0.5358147621154785, -0.06326476484537125, 0.3820614218711853, 0.010765736922621727, 0.31771937012672424, -0.3449859023094177, 0.1228633001446724, 0.020984265953302383, 0.2992430329322815, 0.08457519114017487, 0.07468035817146301, -0.5469489097595215, 0.011308612301945686, 0.3120562732219696, -0.012934107333421707, 0.04741005226969719, -0.36102229356765747, 0.12055855989456177, -0.057563088834285736, 0.32499298453330994, 0.006197325885295868, -0.33692094683647156, 0.04483974352478981, -0.113743856549263, -0.16427382826805115, 0.005734158679842949, 0.269980788230896, 0.12000290304422379, 0.1836950182914734, 0.2908720374107361, -0.19867587089538574, 0.08097697049379349, 0.23351982235908508, -0.47347453236579895, 0.4479055404663086, 0.1884789764881134, 0.5302357077598572, 0.047283098101615906, -0.35743510723114014, 0.4580083191394806, 0.2573261857032776, 0.16637015342712402, 0.38089168071746826, -0.25604042410850525, 0.3632509112358093, 0.366779088973999, 0.281149297952652, -0.37668418884277344, 0.22040455043315887, -0.4462674856185913, -0.6777708530426025, 0.3665836751461029, -0.313411146402359, 0.3279675245285034, 0.058771222829818726, 0.40961015224456787, -0.3128884434700012, 0.46952247619628906, -0.09021622687578201, -0.4354194700717926, -0.3599398732185364, 0.043071113526821136, -0.6725391745567322, -0.03904508054256439, 0.6868062019348145, 0.06411029398441315, 0.36759519577026367, -0.07233786582946777, 0.2299068123102188, -0.28029683232307434, -0.0977950319647789, -0.2420368492603302, 0.22942976653575897, -0.5333887338638306, -0.09018191695213318, -0.29359546303749084, 0.1517394781112671, 0.361857533454895, 0.011628696694970131, 0.5447145700454712, 0.386955201625824, 0.10039490461349487, -0.15871118009090424, -0.006318595260381699, -0.409100204706192, -0.17336660623550415, -0.18857192993164062, 0.014216125011444092, 0.5231838226318359, 0.7378870844841003, -0.09692993760108948, 0.24895432591438293, -0.33275431394577026, -0.007619816809892654, 0.09359239786863327, -0.22151055932044983, 0.4932248890399933, 0.0693245530128479, 0.08453908562660217, -0.23221614956855774, -0.2339116930961609, 0.14846335351467133, -0.04371664673089981, -0.018997151404619217, 0.10764957219362259, -0.3835787773132324, -0.04033100605010986, -0.5037916898727417, -4.930878479488897e-32, 0.5859872698783875, -0.3274022936820984, 0.5194945931434631, 0.3263351321220398, -0.04470255970954895, 0.03305049240589142, 0.1840149164199829, -0.12783470749855042, -0.17963549494743347, -0.363997220993042, 0.10909388214349747, -0.17439912259578705, -0.2933349907398224, -0.37046018242836, 0.190321147441864, -0.3308285176753998, 0.0057464465498924255, -0.2030278593301773, -0.779110312461853, 0.45495548844337463, -0.3729782700538635, 0.40801167488098145, -0.3073353171348572, -0.18302816152572632, 0.0530715212225914, -0.04787517338991165, -0.016358956694602966, 0.2648073732852936, 0.4755348563194275, 0.12777772545814514, 0.18923237919807434, 0.5930442810058594, -0.11058109253644943, 0.03222509101033211, -0.010189749300479889, -0.42392343282699585, 0.028922995552420616, -0.006307773292064667, -0.6141573190689087, 0.20540663599967957, 0.08978357911109924, 0.3365303874015808, -0.535671591758728, 0.44048556685447693, 0.25120028853416443, 0.030712749809026718, 0.3998865783214569, -0.29789653420448303, 0.3242839574813843, 0.1531059294939041, -0.6799746155738831, 0.060975249856710434, 0.08680243790149689, -0.17903350293636322, 0.43615245819091797, 0.42786604166030884, 0.2538190186023712, -0.04443914815783501, 0.30082765221595764, 0.3445558547973633, 0.37243685126304626, 0.509472668170929, 0.1867297738790512, -0.10306580364704132, 0.34704825282096863, -0.19862781465053558, -0.12177253514528275, 0.030688021332025528, 0.06689873337745667, -0.7658523321151733, -0.06401677429676056, 0.04981359839439392, 0.560442328453064, -0.14376205205917358, -0.08943117409944534, -0.3529694676399231, 0.07722121477127075, -0.13961943984031677, -0.3777919411659241, -0.19047892093658447, -0.4861537516117096, -0.2813059985637665, 0.2318207025527954, 0.42330387234687805, -0.1553564965724945, 0.043329186737537384, -0.16274484992027283, -0.2328941822052002, 0.01788695529103279, -0.47057434916496277, -0.6657915115356445, -0.29434633255004883, -0.10104101896286011, -0.5645283460617065, -0.6102726459503174, 2.884865321946235e-32, -0.17960190773010254, -0.3759199380874634, -0.23077166080474854, 0.28565067052841187, 0.03860683739185333, -0.3990457355976105, 0.4333914816379547, 0.3169785439968109, -0.001730695366859436, 0.4997232258319855, -0.07527562975883484, 0.39554524421691895, 0.5029520988464355, 0.4745107591152191, 0.2833695113658905, 0.271558940410614, 0.5810573697090149, 0.5125006437301636, -0.5401435494422913, -0.14335644245147705, -0.5232837200164795, -0.044995084404945374, 0.501412034034729, 0.020698219537734985, -0.33536285161972046, 0.565032958984375, 0.03098674863576889, 0.003125704824924469, -0.35791724920272827, -0.1405806690454483, -0.5810195803642273, 0.2795933187007904, -0.06797274947166443, 0.007196702994406223, -0.009924117475748062, 0.41620519757270813, -0.09892040491104126, -0.944725751876831, 0.0008715279400348663, 0.47346746921539307, -0.29743993282318115, -0.2952512204647064, -0.16819240152835846, 0.028447270393371582, -0.38292330503463745, -0.18120114505290985, -0.13947711884975433, 0.6354930400848389, -0.05985156074166298, 0.05769011378288269, 0.022054720669984818, -0.0015980489552021027, 0.28193315863609314, 0.008624337613582611, 0.3649822473526001, -0.22129130363464355, -0.5530960559844971, 0.6374199390411377, 0.0766189843416214, 0.26050513982772827, 0.3022863268852234, 0.38499176502227783, -0.19324934482574463, 0.28827717900276184, -0.12767468392848969, 0.4471852481365204, -0.2607732117176056, 0.06295272707939148, -0.17699454724788666, -0.2541637718677521, -0.2668986916542053, -0.1831061840057373, -0.3950919508934021, 0.13865724205970764, -0.016428142786026, 0.2665744721889496, 0.03772296756505966, -0.28573763370513916, -0.434259831905365, 0.4085552394390106, -0.09604677557945251, 0.1282351315021515, 0.07045017182826996, -0.11377900093793869, -0.07866857945919037, -0.4515337347984314, -0.020528629422187805, -0.19881857931613922, -0.24360322952270508, -0.7685383558273315, -0.03166136145591736, 0.29905736446380615, -0.23623040318489075, 0.06917504966259003, -0.41569554805755615, -9.425291835896132e-08, 0.2294178158044815, 0.08136384934186935, 0.23495152592658997, 0.11421500891447067, 0.19796575605869293, -0.19970202445983887, 0.5454663038253784, -0.17914524674415588, 0.3431911766529083, 0.21474020183086395, -0.49471479654312134, -0.4238216280937195, 0.07224895060062408, -0.21118754148483276, -0.15456125140190125, -0.20120127499103546, -0.3382246494293213, -0.29560720920562744, -0.24661223590373993, 0.18045039474964142, -0.2367021143436432, 0.01689799875020981, -0.01706762984395027, 0.026867523789405823, -0.1194162368774414, -0.1717415302991867, 0.11998189240694046, 0.0736948549747467, 0.45491185784339905, 0.1510990709066391, 0.09060487151145935, 0.45481112599372864, -0.044460754841566086, -0.12728279829025269, -0.2845984697341919, -0.16055990755558014, -0.395364910364151, 0.7733851075172424, -0.4244531989097595, -0.20108750462532043, -0.06980892270803452, -0.206208273768425, -0.017168983817100525, 0.052779775112867355, 0.3563781976699829, -0.11497841775417328, -0.03923331946134567, 0.7283897399902344, -0.06683208048343658, -0.1558692306280136, -0.5935700535774231, -0.0410170778632164, 0.17916058003902435, -0.0012847855687141418, 0.31260523200035095, -0.4546405076980591, 0.01930108666419983, -0.17932142317295074, -0.15486203134059906, 0.24252307415008545, -0.18206018209457397, -0.04146996885538101, -0.14505122601985931, 0.26309388875961304]\n"
     ]
    }
   ],
   "source": [
    "from llama_index.core import VectorStoreIndex, SimpleDirectoryReader, Settings\n",
    "from llama_index.embeddings.ollama import OllamaEmbedding\n",
    "\n",
    "def setup_models():\n",
    "    \"\"\"Setting up the embedding and language models...\"\"\"\n",
    "    Settings.embed_model = OllamaEmbedding(model_name=\"all-minilm:latest\", base_url=\"http://localhost:11434\", ollama_additional_kwargs={\"mirostat\": 0}, request_timeout=3600.0)\n",
    "    # Settings.llm = Ollama(model=\"llama3.2:1b\", request_timeout=3600.0)\n",
    "\n",
    "setup_models()\n",
    "\n",
    "# pass_embedding = Settings.embed_model.get_text_embedding_batch(\n",
    "#     [\"This is a passage!\", \"This is another passage\"], show_progress=True\n",
    "# )\n",
    "# print(pass_embedding)\n",
    "\n",
    "query_embedding = Settings.embed_model.get_query_embedding(\"Where is blue?\")\n",
    "print(query_embedding)"
   ]
  }
 ],
 "metadata": {
  "kernelspec": {
   "display_name": ".venv",
   "language": "python",
   "name": "python3"
  },
  "language_info": {
   "codemirror_mode": {
    "name": "ipython",
    "version": 3
   },
   "file_extension": ".py",
   "mimetype": "text/x-python",
   "name": "python",
   "nbconvert_exporter": "python",
   "pygments_lexer": "ipython3",
   "version": "3.12.7"
  }
 },
 "nbformat": 4,
 "nbformat_minor": 2
}
