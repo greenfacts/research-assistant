{
 "cells": [
  {
   "cell_type": "code",
   "execution_count": 8,
   "metadata": {},
   "outputs": [],
   "source": [
    "from tavily import TavilyClient\n"
   ]
  },
  {
   "cell_type": "code",
   "execution_count": 9,
   "metadata": {},
   "outputs": [
    {
     "data": {
      "text/plain": [
       "{'query': 'What is the tavily api used for',\n",
       " 'follow_up_questions': None,\n",
       " 'answer': None,\n",
       " 'images': [],\n",
       " 'results': [{'title': 'Introduction | Tavily AI',\n",
       "   'url': 'https://docs.tavily.com/docs/welcome',\n",
       "   'content': \"However, we've learned that none of today's search engines provide a suitable tool that provides factual, explicit and objective answers without the need to continuously click and explore multiple sites for a given research task.\\n All in a single API call!\\nTo learn how to build your AI application with Tavily Search API, check out the documentation page.\\n Scraping doesn't scale and requires expertise to refine, current search engine APIs don't provide explicit information to queries but simply potential related articles (which are not always related), and are not very customziable for AI agent needs. GPT Researcher is an autonomous agent that takes care of the tedious task of research for you, by scraping, filtering and aggregating over 20+ web sources per a single research task.\\n This is why we're excited to introduce the first search engine for AI agents - Tavily Search API.\\n\",\n",
       "   'score': 0.72907686,\n",
       "   'raw_content': \"Introduction\\nHey there! 👋\\nWe're a team of AI researchers and developers who are passionate about building the next generation of AI assistants.\\nOur mission is to empower individuals and organizations with accurate, unbiased, and factual information.\\nGPT Researcher\\u200b\\nIn this digital age, quickly accessing relevant and trustworthy information is more crucial than ever. However, we've learned that none of today's search engines provide a suitable tool that provides factual, explicit and objective answers without the need to continuously click and explore multiple sites for a given research task.\\nThis is why we've built the trending open source GPT Researcher. GPT Researcher is an autonomous agent that takes care of the tedious task of research for you, by scraping, filtering and aggregating over 20+ web sources per a single research task.\\nTo learn more about GPT Researcher, check out the documentation page.\\nTavily Search API\\u200b\\nBuilding an AI agent that leverages realtime online information is not a simple task. Scraping doesn't scale and requires expertise to refine, current search engine APIs don't provide explicit information to queries but simply potential related articles (which are not always related), and are not very customziable for AI agent needs. This is why we're excited to introduce the first search engine for AI agents - Tavily Search API.\\nTavily Search API is a search engine optimized for LLMs, aimed at efficient, quick and persistent search results. Unlike other search APIs such as Serp or Google, Tavily focuses on optimizing search for AI developers and autonomous AI agents. We take care of all the burden in searching, scraping, filtering and extracting the most relevant information from online sources. All in a single API call!\\nTo learn how to build your AI application with Tavily Search API, check out the documentation page.\\nTo try our API in action, you can now use GPT Researcher on our hosted version here or on our API Playground.\\nIf you're an AI developer looking to integrate your application with our API or seek increased API limits, please reach out!\"},\n",
       "  {'title': 'Tavily',\n",
       "   'url': 'https://tavily.com/',\n",
       "   'content': \"Find a plan to power your AI Agents\\nFor new creators building\\nIdeal for growing businesses\\nBuilt for scale and exclusive data\\nEverything you need to know\\nHere are the questions most people always ask about.\\n Our goal is to make the research process a breeze, so you can focus on what matters\\nWith Tavily Research Assistant, all you need is to share your objectives and questions, and voila! Unleash the Power of AI with Automated Research\\nTavily does your research for you, so you can spend less time stressing over it and more time focusing on the things that really matter.\\n Introducing our Search API - Your AI's Gateway to the Web\\nElevate your AI capabilities with a search engine built specifically for AI agents (LLMs), delivering real-time, accurate, and factual results at speed.\\n Dive deeper and share insights\\nOnce you have your research results, you can dive deeper to more research tasks, and even share your reports.\\n\",\n",
       "   'score': 0.7251239,\n",
       "   'raw_content': 'Say Goodbye to Hours of Research\\nSay Hello to Tavily, your AI mate for rapid insights and comprehensive research. Tavily takes care of everything from accurate source gathering to organization of research results - all in one platform designed to make your research process a breeze.\\nIntroducing our Search API - Your AI\\'s Gateway to the Web\\nElevate your AI capabilities with a search engine built specifically for AI agents (LLMs), delivering real-time, accurate, and factual results at speed.\\nIn-depth Research\\nSimplify data gathering with trusted, aggregated and curated results from a single API call.\\nIntelligent Query Suggestions and Answers\\nEquip your AI with the ability to iteratively deepen its knowledge through automated, nuanced answers and follow-up queries.\\nTailored search retrieval for AI agents\\nWe know that each AI agent requires different data. That\\'s why we\\'ve built a flexible API that allows you to customize your search to your needs. We use a combination of proprietary data sources and models to deliver the most relevant results for your AI agent.\\nIt is critical for finance AI applications to retrieve realtime and correct data for making the right decisions. Tavily aggregates information from curated sources to deliver the most relevant results for your AI agent. Anything from stock prices to company financials, we have you covered.\\nOur goal is to make the research process a breeze, so you can focus on what matters\\nWith Tavily Research Assistant, all you need is to share your objectives and questions, and voila! Tavily provides comprehensive, accurate and credible research results in a matter of seconds.\\n1. Share what you want to research\\nFor example: \"Plan a 5 day romantic trip to Paris\" or \"how to optimize my Linkedin profile\"\\n2. Tavily will start the research process\\nTavily will start gathering information from multiple online trusted sources. Tavily aims to provide you with the most accurate and credible information.\\n3. Get a comprehensive research report\\nTavily will then organize the information and provide you with a comprehensive research report within minutes.\\n4. Dive deeper and share insights\\nOnce you have your research results, you can dive deeper to more research tasks, and even share your reports.\\nFind a plan to power your AI Agents\\nFor new creators building\\nIdeal for growing businesses\\nBuilt for scale and exclusive data\\nEverything you need to know\\nHere are the questions most people always ask about.\\nTavily is proficient in conducting any kind of research regardless of the subject matter or niche. Tavily can help with anything from \"find the top 5 restaurants in NYC\" to academic research like \"What is the economic impact of Covid?\".\\nTavily uses advanced algorithms and models to gather information from relevant sources. We also have a team of experts who review the information to refine and ensure research correctness.\\nUnlike Bing, Google and SerpAPI, Tavily Search API reviews multiple sources to find the most relevant content from each source to optimize for LLM context. Tavily Search API is also more affordable and flexible.\\nIt depends on the research. In average, you will receive a comprehensive research report within minutes. Our API can return research results in seconds!\\nYes, Tavily provides comprehensive cited sources for the research results. You can also tell Tavily which sources to focus on.\\nBoth! Tavily is ideal for anyone who needs to conduct research to make unbiased and informed decisions. We works closely with individuals, startups and enterprises to provide the best research experience.\\nUnleash the Power of AI with Automated Research\\nTavily does your research for you, so you can spend less time stressing over it and more time focusing on the things that really matter.\\n© 2023 Tavily Inc. All rights reserved.'}],\n",
       " 'response_time': 1.91}"
      ]
     },
     "execution_count": 9,
     "metadata": {},
     "output_type": "execute_result"
    }
   ],
   "source": [
    "tavily_client = TavilyClient()\n",
    "results = tavily_client.search(\"What is the tavily api used for\", max_results=2, include_raw_content=True)\n",
    "results"
   ]
  },
  {
   "cell_type": "code",
   "execution_count": 10,
   "metadata": {},
   "outputs": [
    {
     "data": {
      "text/plain": [
       "2"
      ]
     },
     "execution_count": 10,
     "metadata": {},
     "output_type": "execute_result"
    }
   ],
   "source": [
    "from llama_index.core import Document, VectorStoreIndex\n",
    "\n",
    "documents = [Document(text=result[\"content\"]) for result in results[\"results\"]]\n",
    "len(documents)"
   ]
  },
  {
   "cell_type": "code",
   "execution_count": null,
   "metadata": {},
   "outputs": [],
   "source": [
    "from llama_index.core import VectorStoreIndex, SimpleDirectoryReader, Settings\n",
    "from llama_index.embeddings.ollama import OllamaEmbedding\n",
    "from llama_index.llms.ollama import Ollama\n",
    "\n",
    "def setup_models():\n",
    "    \"\"\"Setting up the embedding and language models...\"\"\"\n",
    "    Settings.embed_model = OllamaEmbedding(model_name=\"all-minilm:latest\", base_url=\"http://localhost:11434\", ollama_additional_kwargs={\"mirostat\": 0}, request_timeout=3600.0)\n",
    "    Settings.llm = Ollama(model=\"llama3.2:1b\", request_timeout=60.0)\n",
    "\n",
    "setup_models()\n",
    "\n",
    "# pass_embedding = Settings.embed_model.get_text_embedding_batch(\n",
    "#     [\"This is a passage!\", \"This is another passage\"], show_progress=True\n",
    "# )\n",
    "# print(pass_embedding)\n",
    "\n",
    "# query_embedding = Settings.embed_model.get_query_embedding(\"Where is blue?\")\n",
    "# print(query_embedding)\n",
    "\n",
    "# response = Settings.llm.complete(\"What is the capital of France?\")\n",
    "# print(response)"
   ]
  },
  {
   "cell_type": "code",
   "execution_count": 11,
   "metadata": {},
   "outputs": [],
   "source": [
    "from llama_index.core.node_parser import SentenceSplitter\n",
    "splitter = SentenceSplitter(chunk_size=1024)\n",
    "nodes = splitter.get_nodes_from_documents(documents)"
   ]
  },
  {
   "cell_type": "code",
   "execution_count": 12,
   "metadata": {},
   "outputs": [
    {
     "name": "stdout",
     "output_type": "stream",
     "text": [
      "However, we've learned that none of today's search engines provide a suitable tool that provides factual, explicit and objective answers without the need to continuously click and explore multiple sites for a given research task.\n",
      " All in a single API call!\n",
      "To learn how to build your AI application with Tavily Search API, check out the documentation page.\n",
      " Scraping doesn't scale and requires expertise to refine, current search engine APIs don't provide explicit information to queries but simply potential related articles (which are not always related), and are not very customziable for AI agent needs. GPT Researcher is an autonomous agent that takes care of the tedious task of research for you, by scraping, filtering and aggregating over 20+ web sources per a single research task.\n",
      " This is why we're excited to introduce the first search engine for AI agents - Tavily Search API.\n"
     ]
    }
   ],
   "source": [
    "print(nodes[0].get_content(metadata_mode=\"all\"))"
   ]
  },
  {
   "cell_type": "code",
   "execution_count": 13,
   "metadata": {},
   "outputs": [],
   "source": [
    "from llama_index.core import VectorStoreIndex\n",
    "\n",
    "vector_index = VectorStoreIndex(nodes)\n",
    "query_engine = vector_index.as_query_engine(similarity_top_k=2)"
   ]
  },
  {
   "cell_type": "code",
   "execution_count": 14,
   "metadata": {},
   "outputs": [
    {
     "data": {
      "text/plain": [
       "Response(response=\"The Tavily Search API is designed specifically for building AI applications, particularly autonomous agents. It's built to scale and provide exclusive data to enhance research tasks, making it an ideal solution for new creators, growing businesses, and those requiring a high level of customizability and scalability.\", source_nodes=[NodeWithScore(node=TextNode(id_='9d04429d-a7c5-4883-860d-f2bf7abb4ffa', embedding=None, metadata={}, excluded_embed_metadata_keys=[], excluded_llm_metadata_keys=[], relationships={<NodeRelationship.SOURCE: '1'>: RelatedNodeInfo(node_id='7bda0bc3-ea79-41d3-b8e7-5f86ce80ac8b', node_type='4', metadata={}, hash='f94d1c6a772a256e339677c660152eda8a2fae68116013e6bcc064ea993048b4')}, metadata_template='{key}: {value}', metadata_separator='\\n', text=\"However, we've learned that none of today's search engines provide a suitable tool that provides factual, explicit and objective answers without the need to continuously click and explore multiple sites for a given research task.\\n All in a single API call!\\nTo learn how to build your AI application with Tavily Search API, check out the documentation page.\\n Scraping doesn't scale and requires expertise to refine, current search engine APIs don't provide explicit information to queries but simply potential related articles (which are not always related), and are not very customziable for AI agent needs. GPT Researcher is an autonomous agent that takes care of the tedious task of research for you, by scraping, filtering and aggregating over 20+ web sources per a single research task.\\n This is why we're excited to introduce the first search engine for AI agents - Tavily Search API.\", mimetype='text/plain', start_char_idx=0, end_char_idx=889, metadata_seperator='\\n', text_template='{metadata_str}\\n\\n{content}'), score=0.48638047156254954), NodeWithScore(node=TextNode(id_='99216e41-d014-4a48-bae8-9912ad391ba4', embedding=None, metadata={}, excluded_embed_metadata_keys=[], excluded_llm_metadata_keys=[], relationships={<NodeRelationship.SOURCE: '1'>: RelatedNodeInfo(node_id='fb74201e-244e-4b43-a83f-dfcaaa96fc11', node_type='4', metadata={}, hash='f4907df089751bbd1bf79a9b0a18dc555fa8bd27dc6adea60c13995c8c35c28b')}, metadata_template='{key}: {value}', metadata_separator='\\n', text=\"Find a plan to power your AI Agents\\nFor new creators building\\nIdeal for growing businesses\\nBuilt for scale and exclusive data\\nEverything you need to know\\nHere are the questions most people always ask about.\\n Our goal is to make the research process a breeze, so you can focus on what matters\\nWith Tavily Research Assistant, all you need is to share your objectives and questions, and voila! Unleash the Power of AI with Automated Research\\nTavily does your research for you, so you can spend less time stressing over it and more time focusing on the things that really matter.\\n Introducing our Search API - Your AI's Gateway to the Web\\nElevate your AI capabilities with a search engine built specifically for AI agents (LLMs), delivering real-time, accurate, and factual results at speed.\\n Dive deeper and share insights\\nOnce you have your research results, you can dive deeper to more research tasks, and even share your reports.\", mimetype='text/plain', start_char_idx=0, end_char_idx=929, metadata_seperator='\\n', text_template='{metadata_str}\\n\\n{content}'), score=0.45315584140926773)], metadata={'9d04429d-a7c5-4883-860d-f2bf7abb4ffa': {}, '99216e41-d014-4a48-bae8-9912ad391ba4': {}})"
      ]
     },
     "execution_count": 14,
     "metadata": {},
     "output_type": "execute_result"
    }
   ],
   "source": [
    "query_engine.query(\"What is the tavily api used for\")"
   ]
  },
  {
   "cell_type": "code",
   "execution_count": null,
   "metadata": {},
   "outputs": [],
   "source": [
    "from llama_index.core.tools import FunctionTool\n",
    "from typing import List\n",
    "\n",
    "\n",
    "def vector_query(\n",
    "    query: str, \n",
    ") -> str:\n",
    "    \"\"\"Perform a vector search over an index.\n",
    "    \n",
    "    query (str): the string query to be embedded.\n",
    "    \"\"\"\n",
    "\n",
    "    query_engine = vector_index.as_query_engine(\n",
    "        similarity_top_k=2,\n",
    "    )\n",
    "    response = query_engine.query(query)\n",
    "    return response\n",
    "    \n",
    "\n",
    "vector_query_tool = FunctionTool.from_defaults(\n",
    "    name=\"vector_tool\",\n",
    "    fn=vector_query\n",
    ")"
   ]
  },
  {
   "cell_type": "code",
   "execution_count": 15,
   "metadata": {},
   "outputs": [],
   "source": [
    "from llama_index.core import SummaryIndex\n",
    "from llama_index.core.tools import QueryEngineTool\n",
    "\n",
    "summary_index = SummaryIndex(nodes)\n",
    "summary_query_engine = summary_index.as_query_engine(\n",
    "    response_mode=\"tree_summarize\",\n",
    "    use_async=True,\n",
    ")\n",
    "summary_tool = QueryEngineTool.from_defaults(\n",
    "    name=\"summary_tool\",\n",
    "    query_engine=summary_query_engine,\n",
    "    description=(\n",
    "        \"Useful if you want to get a summary a document or documents.\"\n",
    "    ),\n",
    ")"
   ]
  },
  {
   "cell_type": "code",
   "execution_count": 20,
   "metadata": {},
   "outputs": [],
   "source": [
    "from llama_index.core.agent import FunctionCallingAgentWorker\n",
    "from llama_index.core.agent import AgentRunner\n",
    "\n",
    "agent_worker = FunctionCallingAgentWorker.from_tools(\n",
    "    [vector_query_tool, summary_tool], \n",
    "    llm=Settings.llm, \n",
    "    verbose=True\n",
    ")\n",
    "agent = AgentRunner(agent_worker)"
   ]
  },
  {
   "cell_type": "code",
   "execution_count": 23,
   "metadata": {},
   "outputs": [
    {
     "name": "stdout",
     "output_type": "stream",
     "text": [
      "Added user message to memory: What is tavily used for?\n",
      "=== Calling Function ===\n",
      "Calling function: vector_tool with args: {\"query\": \"what is tavily used for\"}\n",
      "=== Function Output ===\n",
      "Tavily is used as a platform to power AI research assistants, allowing new creators building businesses to focus on their goals rather than spending time researching. It provides an automated research solution that can be integrated into various applications and projects to deliver accurate and factual results at speed.\n",
      "=== LLM Response ===\n",
      "{}\n",
      "\n",
      "(name: \"business_solution\", value: \"Tavily provides a scalable and reliable platform for AI research assistants, allowing businesses to focus on their core activities while leveraging Tavily's automated research capabilities.\")\n",
      "{}\n",
      "\n",
      "(name: \"business_solution\", value: \"Tavily provides a scalable and reliable platform for AI research assistants, allowing businesses to focus on their core activities while leveraging Tavily's automated research capabilities.\")\n"
     ]
    }
   ],
   "source": [
    "response = agent.chat(\"What is tavily used for?\")\n",
    "print(response)"
   ]
  }
 ],
 "metadata": {
  "kernelspec": {
   "display_name": ".venv",
   "language": "python",
   "name": "python3"
  },
  "language_info": {
   "codemirror_mode": {
    "name": "ipython",
    "version": 3
   },
   "file_extension": ".py",
   "mimetype": "text/x-python",
   "name": "python",
   "nbconvert_exporter": "python",
   "pygments_lexer": "ipython3",
   "version": "3.12.7"
  }
 },
 "nbformat": 4,
 "nbformat_minor": 2
}
